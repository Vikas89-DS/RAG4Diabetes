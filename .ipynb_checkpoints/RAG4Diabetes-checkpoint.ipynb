{
 "cells": [
  {
   "cell_type": "markdown",
   "id": "db9c2fd8-898f-44aa-bb88-6404b209db3f",
   "metadata": {},
   "source": [
    "# Importing Required Libraries\n",
    "\n",
    "This section imports all the necessary Python packages needed for document loading, text splitting, embeddings generation, vector storage, and retrieval-based question answering."
   ]
  },
  {
   "cell_type": "code",
   "execution_count": 1,
   "id": "5f66748b-6e74-4086-a5d6-6a9146ae2586",
   "metadata": {},
   "outputs": [],
   "source": [
    "import os  # File system operations\n",
    "from langchain_community.document_loaders import PyPDFLoader  # PDF document loader\n",
    "from langchain_text_splitters import RecursiveCharacterTextSplitter  # Split text into chunks\n",
    "from langchain_ollama import OllamaEmbeddings  # Generate embeddings with Ollama\n",
    "from langchain_community.vectorstores import Qdrant  # Vector database client\n",
    "from langchain_ollama import OllamaLLM  # Ollama large language model interface\n",
    "from langchain.chains import RetrievalQA  # Retrieval-based QA pipeline"
   ]
  },
  {
   "cell_type": "code",
   "execution_count": 2,
   "id": "7661ff14-f1d9-4541-a0ca-d8e1cb6d729b",
   "metadata": {},
   "outputs": [],
   "source": [
    "# Configuration parameters for document loading, embedding, LLM, and vector store\n",
    "docs_path = r\"C:\\Users\\Vikas Verma\\RAG4Diabetes\\docs\"\n",
    "embedding_model = \"nomic-embed-text\"\n",
    "llm_model = \"llama3.2\"\n",
    "collection_name = \"healthcare_docs\"\n",
    "qdrant_url = \"http://localhost:6333\""
   ]
  },
  {
   "cell_type": "markdown",
   "id": "94245507-9d5a-46ad-8eab-2f62c23d57b5",
   "metadata": {},
   "source": [
    "# Document Loading and Splitting\n",
    "\n",
    "This function handles loading PDF documents from the specified path, which can be either a directory containing multiple PDFs or a single PDF file.\n",
    "\n",
    "It then splits the loaded documents into smaller chunks with overlaps to preserve context, which is useful for downstream embedding and retrieval tasks.\n"
   ]
  },
  {
   "cell_type": "code",
   "execution_count": 3,
   "id": "80c11883-0b59-462e-a058-e1819b5a584b",
   "metadata": {},
   "outputs": [],
   "source": [
    "def load_and_split_documents(docs_path):\n",
    "    print(f\"Loading documents from: {docs_path}\")\n",
    "    \n",
    "    all_docs = []\n",
    "\n",
    "    # Check if the path is a directory and load all PDFs inside it\n",
    "    if os.path.isdir(docs_path):\n",
    "        for filename in os.listdir(docs_path):\n",
    "            file_path = os.path.join(docs_path, filename)\n",
    "            if filename.lower().endswith(\".pdf\"):\n",
    "                loader = PyPDFLoader(file_path)\n",
    "                all_docs.extend(loader.load())\n",
    "\n",
    "    # If the path is a single PDF file, load it directly\n",
    "    elif os.path.isfile(docs_path) and docs_path.lower().endswith(\".pdf\"):\n",
    "        loader = PyPDFLoader(docs_path)\n",
    "        all_docs.extend(loader.load())\n",
    "    else:\n",
    "        print(f\"No valid documents found or path is incorrect: {docs_path}\")\n",
    "        return []\n",
    "\n",
    "    if not all_docs:\n",
    "        print(\"No documents were loaded. Please check the path and file types.\")\n",
    "        return []\n",
    "            \n",
    "    print(f\"Loaded {len(all_docs)} document pages/sections.\")\n",
    "\n",
    "    # Split documents into manageable chunks with overlap for context retention\n",
    "    text_splitter = RecursiveCharacterTextSplitter(\n",
    "        chunk_size=1000,  \n",
    "        chunk_overlap=200 \n",
    "    )\n",
    "\n",
    "    splits = text_splitter.split_documents(all_docs)\n",
    "\n",
    "    print(f\"Split into {len(splits)} chunks.\")\n",
    "    return splits"
   ]
  },
  {
   "cell_type": "markdown",
   "id": "8f30a86e-1a05-42e0-80bc-c6209afd9b79",
   "metadata": {},
   "source": [
    "# Vector Store Setup\n",
    "\n",
    "This function sets up the vector store using Qdrant, which stores document embeddings for efficient similarity search.\n",
    "\n",
    "- It initializes the Ollama embedding model based on the given model name.  \n",
    "- Then it creates or recreates a Qdrant collection with the embedded document chunks.  \n",
    "- This vector store will be used later for fast retrieval in the QA pipeline."
   ]
  },
  {
   "cell_type": "code",
   "execution_count": 4,
   "id": "85470ddd-23d1-46a3-83c9-c19717feca98",
   "metadata": {},
   "outputs": [],
   "source": [
    "def setup_vector_store(documents_splits, embedding_model, qdrant_url, collection_name):\n",
    "    print(\"Setting up vector store...\")\n",
    "\n",
    "    # Initialize embedding model with the specified model name\n",
    "    embeddings = OllamaEmbeddings(model=embedding_model)\n",
    "\n",
    "    # Create or recreate a Qdrant vector store from document embeddings\n",
    "    qdrant_vector_store = Qdrant.from_documents(\n",
    "        documents_splits,\n",
    "        embeddings,\n",
    "        url=qdrant_url,\n",
    "        prefer_grpc=False,\n",
    "        collection_name=collection_name,\n",
    "        force_recreate=True  # Recreate collection if it exists\n",
    "    )\n",
    "\n",
    "    print(f\"Vector store '{collection_name}' ready.\")\n",
    "    return qdrant_vector_store"
   ]
  },
  {
   "cell_type": "markdown",
   "id": "334b6772-6662-43c8-9a33-34d7bcf9712d",
   "metadata": {},
   "source": [
    "# QA Chain Creation\n",
    "\n",
    "This function creates a RetrievalQA chain that integrates the specified language model (LLM) with the vector store retriever.\n",
    "\n",
    "- The LLM (OllamaLLM) processes user queries.\n",
    "- The retriever fetches relevant document chunks from the vector store.\n",
    "- The chain returns both answers and source documents, enabling explainability."
   ]
  },
  {
   "cell_type": "code",
   "execution_count": 5,
   "id": "232f76a7-84b5-4f71-b7e1-7ae02923a4f8",
   "metadata": {},
   "outputs": [],
   "source": [
    "def get_qa_chain(llm_model, vector_store):\n",
    "    print(\"Creating QA chain...\")\n",
    "\n",
    "    # Initialize the language model with the given model name\n",
    "    llm = OllamaLLM(model=llm_model)\n",
    "\n",
    "    # Create a retriever interface from the vector store for similarity search\n",
    "    retriever = vector_store.as_retriever()\n",
    "\n",
    "    # Build the RetrievalQA chain with 'stuff' chain type and enable source document return\n",
    "    qa_chain = RetrievalQA.from_chain_type(\n",
    "        llm=llm,\n",
    "        chain_type=\"stuff\",\n",
    "        retriever=retriever,\n",
    "        return_source_documents=True\n",
    "    )\n",
    "\n",
    "    print(\"QA chain ready.\")\n",
    "    return qa_chain"
   ]
  },
  {
   "cell_type": "markdown",
   "id": "dbdb21e3-597d-445c-84da-2330b8d8e528",
   "metadata": {},
   "source": [
    "# Main Function: Orchestrating the RAG Pipeline\n",
    "\n",
    "This main function executes the entire retrieval-augmented generation (RAG) workflow:\n",
    "\n",
    "1. **Load and split documents** from the specified path.\n",
    "2. **Setup the vector store** with embedded document chunks.\n",
    "3. **Create the QA chain** combining the LLM and retriever.\n",
    "4. Enter an interactive loop where users can ask questions.\n",
    "5. Display answers along with source document snippets for transparency.\n",
    "\n",
    "The program exits gracefully if no documents are loaded or the user types 'exit'."
   ]
  },
  {
   "cell_type": "code",
   "execution_count": 6,
   "id": "06863978-06a3-4074-bb62-bfdeef275ae5",
   "metadata": {},
   "outputs": [],
   "source": [
    "def main():\n",
    "    print(\"\\n--- Step 1: Loading and Splitting Documents ---\")\n",
    "    doc_splits = load_and_split_documents(docs_path)\n",
    "    \n",
    "    # Exit if no documents are loaded/split\n",
    "    if not doc_splits:\n",
    "        print(\"No document splits to process. Exiting.\")\n",
    "        return\n",
    "\n",
    "    print(\"\\n--- Step 2: Setting up Vector Store ---\")\n",
    "    vector_store = setup_vector_store(doc_splits, embedding_model, qdrant_url, collection_name)\n",
    "\n",
    "    print(\"\\n--- Step 3: Creating QA Chain ---\")\n",
    "    qa_chain = get_qa_chain(llm_model, vector_store)\n",
    "\n",
    "    print(\"\\n--- Step 4: Ready to Answer Questions ---\")\n",
    "    print(\"You can ask the question. Type 'exit' to quit.\")\n",
    "\n",
    "    while True:\n",
    "        query = input(\"\\nYour Question: \")\n",
    "\n",
    "        # Exit loop if user types 'exit'\n",
    "        if query.lower() == 'exit':\n",
    "            break\n",
    "\n",
    "        # Ignore empty queries\n",
    "        if not query.strip():\n",
    "            continue\n",
    "        \n",
    "        try:\n",
    "            print(\"Thinking...\")\n",
    "\n",
    "            # Get answer and source documents from the QA chain\n",
    "            result = qa_chain.invoke({\"query\": query})\n",
    "\n",
    "            print(\"\\nAns:\")\n",
    "            print(result[\"result\"])\n",
    "\n",
    "            print(\"\\nSource Documents:\")\n",
    "\n",
    "            # Display snippets of source documents and their metadata\n",
    "            for i, doc in enumerate(result[\"source_documents\"]):\n",
    "                print(f\"\\n--- Source Document {i+1} ---\")\n",
    "                print(f\"Content: {doc.page_content[:500]}...\")\n",
    "                if doc.metadata and 'source' in doc.metadata:\n",
    "                    print(f\"Source: {doc.metadata['source']}\")\n",
    "                print(\"---\")\n",
    "\n",
    "        except Exception as e:\n",
    "            print(f\"Error Found: {e}\")"
   ]
  },
  {
   "cell_type": "code",
   "execution_count": 7,
   "id": "a638fe87-0775-470d-a60d-f30b8568a183",
   "metadata": {},
   "outputs": [
    {
     "name": "stdout",
     "output_type": "stream",
     "text": [
      "\n",
      "--- Step 1: Loading and Splitting Documents ---\n",
      "Loading documents from: C:\\Users\\Vikas Verma\\RAG4Diabetes\\docs\n",
      "Loaded 433 document pages/sections.\n",
      "Split into 947 chunks.\n",
      "\n",
      "--- Step 2: Setting up Vector Store ---\n",
      "Setting up vector store...\n",
      "Vector store 'healthcare_docs' ready.\n",
      "\n",
      "--- Step 3: Creating QA Chain ---\n",
      "Creating QA chain...\n",
      "QA chain ready.\n",
      "\n",
      "--- Step 4: Ready to Answer Questions ---\n",
      "You can ask the question. Type 'exit' to quit.\n"
     ]
    },
    {
     "name": "stdin",
     "output_type": "stream",
     "text": [
      "\n",
      "Your Question:  what is diabetes?\n"
     ]
    },
    {
     "name": "stdout",
     "output_type": "stream",
     "text": [
      "Thinking...\n",
      "\n",
      "Ans:\n",
      "Diabetes is a disease that occurs when your blood glucose, also called blood sugar, is too high. Glucose is your body's main source of energy. Your body can make glucose, but glucose also comes from the food you eat. Insulin is a hormone made by the pancreas that helps glucose get into your cells to be used for energy. If you have diabetes, your body doesn't make enough—or any—insulin, or doesn't use insulin properly. Glucose then stays in your blood and doesn't reach your cells.\n",
      "\n",
      "Source Documents:\n",
      "\n",
      "--- Source Document 1 ---\n",
      "Content: What Is Diabetes?\n",
      "Diabetes is a disease that occurs when your blood glucose, also called blood sugar, is too high. Glucose is\n",
      "your body’s main source of energy. Your body can make glucose, but glucose also comes from the food you\n",
      "eat.\n",
      "Insulin is a hormone made by the pancreas that helps glucose get into your cells to be used for energy. If\n",
      "you have diabetes, your body doesn’t make enough—or any—insulin, or doesn’t use insulin properly.\n",
      "Glucose then stays in your blood and doesn’t reach your cell...\n",
      "Source: C:\\Users\\Vikas Verma\\RAG4Diabetes\\docs\\What Is Diabetes_ - NIDDK.pdf\n",
      "---\n",
      "\n",
      "--- Source Document 2 ---\n",
      "Content: Introduction\n",
      "Definition of diabetes\n",
      "Diabetes mellitus, commonly known as diabetes, is a group of metabolic disorders \n",
      "characterized by the presence of hyperglycaemia in the absence of treatment. The \n",
      "heterogeneous aetiopathology includes defects in insulin secretion, insulin action, \n",
      "or both. The long-term specific complications of diabetes include retinopathy, \n",
      "nephropathy, and neuropathy. People with diabetes are also at increased risk of \n",
      "other diseases, including cardiac, peripheral arterial...\n",
      "Source: C:\\Users\\Vikas Verma\\RAG4Diabetes\\docs\\WHO-UCN-NCD-20.1-eng.pdf\n",
      "---\n",
      "\n",
      "--- Source Document 3 ---\n",
      "Content: Learn about the early signs of diabetes.\n",
      "What is diabetes?\n",
      "Diabetes is a condition that happens when your blood sugar (glucose) is\n",
      "too high. It develops when your pancreas doesn’t make enough insulin or\n",
      "any at all, or when your body isn’t responding to the effects of insulin\n",
      "properly. Diabetes affects people of all ages. Most forms of diabetes are\n",
      "chronic (lifelong), and all forms are manageable with medications and/or\n",
      "lifestyle changes.\n",
      "Glucose (sugar) mainly comes from carbohydrates in your fo...\n",
      "Source: C:\\Users\\Vikas Verma\\RAG4Diabetes\\docs\\Diabetes_ What It Is, Causes, Symptoms, Treatment & Types.pdf\n",
      "---\n",
      "\n",
      "--- Source Document 4 ---\n",
      "Content: References\n",
      "Managing your blood glucose levels can help prevent future health problems, such as damage to your eyes.\n",
      "5/30/25, 7:26 PM What Is Diabetes? - NIDDK\n",
      "https://www.niddk.nih.gov/health-information/diabetes/overview/what-is-diabetes 3/4...\n",
      "Source: C:\\Users\\Vikas Verma\\RAG4Diabetes\\docs\\What Is Diabetes_ - NIDDK.pdf\n",
      "---\n"
     ]
    },
    {
     "name": "stdin",
     "output_type": "stream",
     "text": [
      "\n",
      "Your Question:  exit\n"
     ]
    }
   ],
   "source": [
    "if __name__ == \"__main__\":\n",
    "    main()"
   ]
  }
 ],
 "metadata": {
  "kernelspec": {
   "display_name": "Python 3 (ipykernel)",
   "language": "python",
   "name": "python3"
  },
  "language_info": {
   "codemirror_mode": {
    "name": "ipython",
    "version": 3
   },
   "file_extension": ".py",
   "mimetype": "text/x-python",
   "name": "python",
   "nbconvert_exporter": "python",
   "pygments_lexer": "ipython3",
   "version": "3.12.3"
  }
 },
 "nbformat": 4,
 "nbformat_minor": 5
}
